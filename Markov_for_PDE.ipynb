{
 "cells": [
  {
   "cell_type": "markdown",
   "metadata": {},
   "source": [
    "#### Adrien Lemercier, Ecole Polytechnique, December 2019"
   ]
  },
  {
   "cell_type": "markdown",
   "metadata": {},
   "source": [
    "# Markov Chains for PDEs"
   ]
  },
  {
   "cell_type": "code",
   "execution_count": 1,
   "metadata": {},
   "outputs": [],
   "source": [
    "import numpy as np\n",
    "import random\n",
    "import matplotlib.pyplot as plt\n",
    "import time"
   ]
  },
  {
   "cell_type": "markdown",
   "metadata": {},
   "source": [
    "Here we look at equations on the unite square of the form : $$\\Delta f - \\gamma f + \\delta f^2 = 0$$ with $f=\\varphi$ on the unite square and $\\gamma \\ge \\delta \\ge 0$."
   ]
  },
  {
   "cell_type": "markdown",
   "metadata": {},
   "source": [
    "First, we set the parameters of the equation and the boundary conditions in the two following cells."
   ]
  },
  {
   "cell_type": "code",
   "execution_count": 2,
   "metadata": {},
   "outputs": [],
   "source": [
    "\"set the parameters of the equation above\"\n",
    "gamma = 0\n",
    "delta = 0\n",
    "\n",
    "\"don't modify the following line\"\n",
    "assert gamma >= delta >= 0"
   ]
  },
  {
   "cell_type": "code",
   "execution_count": 3,
   "metadata": {},
   "outputs": [],
   "source": [
    "\"define the boundary function you want\"\n",
    "def phi(x,y) :\n",
    "    if x==0 or x==1 :\n",
    "        return 1\n",
    "    else :\n",
    "        return 0"
   ]
  },
  {
   "cell_type": "markdown",
   "metadata": {},
   "source": [
    "The other important paramaters, which will be set at the end, are $L$ for discretization and $K$ for Monte-Carlo approximations."
   ]
  },
  {
   "cell_type": "markdown",
   "metadata": {},
   "source": [
    "Nothing has to be changed in the cells below."
   ]
  },
  {
   "cell_type": "code",
   "execution_count": 4,
   "metadata": {},
   "outputs": [],
   "source": [
    "def phi_discretized (x,y,L) : \n",
    "    assert x==0 or x==L or y==0 or y==L  # Not the real boundary definition, but what is useful to assert in                                \n",
    "    return phi(x/L,y/L)                  # practice because everything evolve inside the unite square."
   ]
  },
  {
   "cell_type": "code",
   "execution_count": 5,
   "metadata": {},
   "outputs": [],
   "source": [
    "def border(i,j,L) : \n",
    "    \"checks whether (i,j) is on the boundary or not\"\n",
    "    return (i==0 or i==L or j==0 or j==L)   # Same remark as for phi_discretized"
   ]
  },
  {
   "cell_type": "code",
   "execution_count": 6,
   "metadata": {},
   "outputs": [],
   "source": [
    "def singleprocess (i,j,L) :\n",
    "    \"process of one single random walk\"\n",
    "    if border(i,j,L) :               # On the boundary, no move\n",
    "        return [i,j]\n",
    "    else :                           # Elsewhere, a random move\n",
    "        p = random.random()\n",
    "        if 0 <= p < 0.25 :\n",
    "            return [i+1,j]\n",
    "        elif p < 0.5 :\n",
    "            return [i-1,j]\n",
    "        elif p < 0.75 :\n",
    "            return [i,j+1]\n",
    "        else :\n",
    "            return [i,j-1]"
   ]
  },
  {
   "cell_type": "code",
   "execution_count": 7,
   "metadata": {},
   "outputs": [],
   "source": [
    "def stop(X,L) :\n",
    "    \"checks whether the multiple random walk if finished or not, i.e. X is empty or \"\n",
    "    \" all his coordinates are on the boundary\"\n",
    "    if X == [] :\n",
    "        return True\n",
    "    else :\n",
    "        for k in range(len(X)) :\n",
    "            if border(X[k][0], X[k][1], L) == False :\n",
    "                return False\n",
    "        return True "
   ]
  },
  {
   "cell_type": "code",
   "execution_count": 8,
   "metadata": {},
   "outputs": [],
   "source": [
    "def process(i,j,L) :\n",
    "    \"simulates a full multiple random walk starting from (i,j)\"\n",
    "    X = [[i,j]]\n",
    "    beta = delta/(4*L**2)                     # probability to duplicate\n",
    "    alpha = (gamma-delta)/(4*L**2)            # probability to die\n",
    "    while not(stop(X,L)) :                    # we continue until the process is done\n",
    "        for k in range(len(X)):\n",
    "            if not(border(X[k][0], X[k][1], L)) :\n",
    "                p = random.random()\n",
    "                if 0 <= p < alpha :           # X[k] dies\n",
    "                    X[k] = -1                 # those who die become -1 and will be removed just after the loop\n",
    "                elif p < alpha + beta :       # X[k] duplicates\n",
    "                    X.append(X[k])\n",
    "                else :                        # X[k] moves as a single random walk\n",
    "                    X[k] = singleprocess(X[k][0], X[k][1], L)\n",
    "        m = X.count(-1)                       # here we remove all the dead coordinates\n",
    "        for _ in range(m) :\n",
    "            X.remove(-1)\n",
    "    return X"
   ]
  },
  {
   "cell_type": "code",
   "execution_count": 9,
   "metadata": {},
   "outputs": [],
   "source": [
    "def value(i,j,L) :\n",
    "    \"estimates, on one simulation, the value of our function\"\n",
    "    X = process(i,j,L)\n",
    "    if X == [] :\n",
    "        return 0\n",
    "    else :\n",
    "        ans = 1\n",
    "        for k in range(len(X)) :\n",
    "            ans *=  phi_discretized(X[k][0], X[k][1], L)     # the 'assert' at the beginning of phi_discretized\n",
    "        return ans                                           # ensures that X[k] is on the edge"
   ]
  },
  {
   "cell_type": "code",
   "execution_count": 10,
   "metadata": {},
   "outputs": [],
   "source": [
    "def monte_carlo(i,j,L,K) :\n",
    "    \"Monte-Carlo estimation of the expected value by making K independent simulations\"\n",
    "    if border(i,j,L) :                        # here to make this particular case quicker\n",
    "        return phi_discretized(i,j,L)\n",
    "    ans = 0\n",
    "    for _ in range(K) :\n",
    "        ans += value(i,j,L)                   # call to independant estimations\n",
    "    return ans/K"
   ]
  },
  {
   "cell_type": "code",
   "execution_count": 11,
   "metadata": {},
   "outputs": [],
   "source": [
    "def solution(L,K) :\n",
    "    \"returns an array which contains the approximate solution to the PDE at each point, \"\n",
    "    \"AND the average time needed to make one simulation\"\n",
    "    ans = np.zeros((L+1,L+1))\n",
    "    time_to_compute = np.zeros((L+1,L+1))\n",
    "    t_0 = time.time()                         # time at the beginning\n",
    "    for i in range(L+1) :\n",
    "        for j in range(L+1) :\n",
    "            t_old = time.time()\n",
    "            ans[i][j] = monte_carlo(i,j,L,K)\n",
    "            time_to_compute[i][j] = (time.time() - t_old)/K\n",
    "        print(f\"{int((i/L)*100)}% done, time = {round(time.time() - t_0, 2)} s\") \n",
    "    print(\"\\n\" + f\"time needed = {round(time.time() - t_0, 1)} s\")                \n",
    "    l = [ans, time_to_compute]\n",
    "    return l"
   ]
  },
  {
   "cell_type": "code",
   "execution_count": 12,
   "metadata": {},
   "outputs": [],
   "source": [
    "def plot_solution(L,K):\n",
    "    \"just plots an approximate solution calculated with the previous function, \"\n",
    "    \"AND the average time needed\"\n",
    "    l = solution(L,K)\n",
    "    ans = l[0]\n",
    "    time_to_compute = l[1]\n",
    "    print(f\"equation parameters : gamma={gamma} and delta={delta}\")\n",
    "    print(f\"simulation parameters : L={L} and  K={K}\")\n",
    "    \n",
    "    fig, ax = plt.subplots(1, 2, figsize = (15,15))\n",
    "    pcm = ax[0].pcolormesh(ans.T, cmap='jet')\n",
    "    ax[0].set_title(\"approximate solution\")\n",
    "    ax[0].set_aspect(aspect='equal')\n",
    "    pcm2 = ax[1].pcolormesh(time_to_compute.T, cmap='jet')\n",
    "    ax[1].set_title(\"average time needed for computation (in s)\")\n",
    "    ax[1].set_aspect(aspect='equal')\n",
    "    fig.colorbar(pcm, ax=ax[0], shrink=0.4)\n",
    "    fig.colorbar(pcm2, ax=ax[1], shrink=0.4)"
   ]
  },
  {
   "cell_type": "markdown",
   "metadata": {},
   "source": [
    "Finally, just write plot_solution$(L,K)$ with the desired value of $K$ and $L$ to get an numerical approximation of the solution."
   ]
  },
  {
   "cell_type": "code",
   "execution_count": 13,
   "metadata": {},
   "outputs": [
    {
     "name": "stdout",
     "output_type": "stream",
     "text": [
      "0% done, time = 0.0 s\n",
      "2% done, time = 0.34 s\n",
      "5% done, time = 0.97 s\n",
      "7% done, time = 1.82 s\n",
      "10% done, time = 3.02 s\n",
      "12% done, time = 4.45 s\n",
      "15% done, time = 5.98 s\n",
      "17% done, time = 7.64 s\n",
      "20% done, time = 9.47 s\n",
      "22% done, time = 11.37 s\n",
      "25% done, time = 13.35 s\n",
      "27% done, time = 15.62 s\n",
      "30% done, time = 17.88 s\n",
      "32% done, time = 20.17 s\n",
      "35% done, time = 22.53 s\n",
      "37% done, time = 25.01 s\n",
      "40% done, time = 27.55 s\n",
      "42% done, time = 30.22 s\n",
      "45% done, time = 32.91 s\n",
      "47% done, time = 35.73 s\n",
      "50% done, time = 38.42 s\n",
      "52% done, time = 41.25 s\n",
      "55% done, time = 43.89 s\n",
      "57% done, time = 46.46 s\n",
      "60% done, time = 48.94 s\n",
      "62% done, time = 51.44 s\n",
      "65% done, time = 53.93 s\n",
      "67% done, time = 56.27 s\n",
      "70% done, time = 58.56 s\n",
      "72% done, time = 60.73 s\n",
      "75% done, time = 62.84 s\n",
      "77% done, time = 64.9 s\n",
      "80% done, time = 66.7 s\n",
      "82% done, time = 68.36 s\n",
      "85% done, time = 69.88 s\n",
      "87% done, time = 71.15 s\n",
      "90% done, time = 72.21 s\n",
      "92% done, time = 73.05 s\n",
      "95% done, time = 73.67 s\n",
      "97% done, time = 74.01 s\n",
      "100% done, time = 74.01 s\n",
      "\n",
      "time needed = 74.0 s\n",
      "equation parameters : gamma=0 and delta=0\n",
      "simulation parameters : L=40 and  K=100\n"
     ]
    },
    {
     "data": {
      "image/png": "[encoded data removed]",
      "text/plain": [
       "<Figure size 1080x1080 with 4 Axes>"
      ]
     },
     "metadata": {
      "needs_background": "light"
     },
     "output_type": "display_data"
    }
   ],
   "source": [
    "plot_solution(40,100)"
   ]
  },
  {
   "cell_type": "code",
   "execution_count": null,
   "metadata": {},
   "outputs": [],
   "source": []
  }
 ],
 "metadata": {
  "celltoolbar": "Raw Cell Format",
  "kernelspec": {
   "display_name": "Python 3",
   "language": "python",
   "name": "python3"
  },
  "language_info": {
   "codemirror_mode": {
    "name": "ipython",
    "version": 3
   },
   "file_extension": ".py",
   "mimetype": "text/x-python",
   "name": "python",
   "nbconvert_exporter": "python",
   "pygments_lexer": "ipython3",
   "version": "3.7.3"
  }
 },
 "nbformat": 4,
 "nbformat_minor": 2
}
